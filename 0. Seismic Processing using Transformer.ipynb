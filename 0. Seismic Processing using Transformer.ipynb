{
 "cells": [
  {
   "cell_type": "code",
   "execution_count": 126,
   "id": "3b02971c-c3ba-4058-ba6b-f754870062ae",
   "metadata": {},
   "outputs": [],
   "source": [
    "import numpy as np\n",
    "import torch\n",
    "import torch.nn as nn"
   ]
  },
  {
   "cell_type": "code",
   "execution_count": 15,
   "id": "e45e05f1-cb0e-4806-8d23-5dd1b6c93154",
   "metadata": {},
   "outputs": [],
   "source": [
    "a = np.array([[1, 2, 3], ['a', 'q', 'b']])\n",
    "b = np.array([[1, 3, 2], ['q', 'a', 'b']])\n",
    "#c = np.array(['r', 2, 'e'])\n",
    "#d = np.array([1, 6, 3])"
   ]
  },
  {
   "cell_type": "code",
   "execution_count": 20,
   "id": "43b52009-7fd0-41ca-b0cb-619b8375fe98",
   "metadata": {},
   "outputs": [
    {
     "name": "stdout",
     "output_type": "stream",
     "text": [
      "[['1' '2' '3']\n",
      " ['a' 'q' 'b']]\n",
      "[['1' '3' '2']\n",
      " ['q' 'a' 'b']]\n"
     ]
    }
   ],
   "source": [
    "m = {}\n",
    "n = {}\n",
    "for i, j in zip([a, b], [m, n]):\n",
    "    print(i)\n",
    "    j['inp'] = i\n",
    "    j['lab'] = i\n",
    "    j['masklab'] = np.zeros_like(i)\n",
    "    j['index'] = np.zeros_like(i.shape[0])"
   ]
  },
  {
   "cell_type": "code",
   "execution_count": 17,
   "id": "f7867880-529c-46eb-b700-10dccc5f85ed",
   "metadata": {},
   "outputs": [
    {
     "data": {
      "text/plain": [
       "{'inp': array([['1', '3', '2'],\n",
       "        ['q', 'a', 'b']], dtype='<U21'),\n",
       " 'lab': array([['1', '3', '2'],\n",
       "        ['q', 'a', 'b']], dtype='<U21'),\n",
       " 'masklab': array([['', '', ''],\n",
       "        ['', '', '']], dtype='<U21'),\n",
       " 'index': array(0)}"
      ]
     },
     "execution_count": 17,
     "metadata": {},
     "output_type": "execute_result"
    }
   ],
   "source": [
    "j"
   ]
  },
  {
   "cell_type": "code",
   "execution_count": 23,
   "id": "fe2c504c-e5fa-47c4-995d-fd928728a0ce",
   "metadata": {},
   "outputs": [
    {
     "data": {
      "text/plain": [
       "{'inp': array([['1', '2', '3'],\n",
       "        ['a', 'q', 'b']], dtype='<U21'),\n",
       " 'lab': array([['1', '2', '3'],\n",
       "        ['a', 'q', 'b']], dtype='<U21'),\n",
       " 'masklab': array([['', '', ''],\n",
       "        ['', '', '']], dtype='<U21'),\n",
       " 'index': array(0)}"
      ]
     },
     "execution_count": 23,
     "metadata": {},
     "output_type": "execute_result"
    }
   ],
   "source": [
    "m"
   ]
  },
  {
   "cell_type": "code",
   "execution_count": 19,
   "id": "8f919e59-1dab-49ff-9024-308055c4fc64",
   "metadata": {},
   "outputs": [
    {
     "data": {
      "text/plain": [
       "{'inp': array([['1', '3', '2'],\n",
       "        ['q', 'a', 'b']], dtype='<U21'),\n",
       " 'lab': array([['1', '3', '2'],\n",
       "        ['q', 'a', 'b']], dtype='<U21'),\n",
       " 'masklab': array([['', '', ''],\n",
       "        ['', '', '']], dtype='<U21'),\n",
       " 'index': array(0)}"
      ]
     },
     "execution_count": 19,
     "metadata": {},
     "output_type": "execute_result"
    }
   ],
   "source": [
    "n"
   ]
  },
  {
   "cell_type": "code",
   "execution_count": 21,
   "id": "2222dad8-d824-4098-9537-8b1156c23290",
   "metadata": {},
   "outputs": [
    {
     "data": {
      "text/plain": [
       "True"
      ]
     },
     "execution_count": 21,
     "metadata": {},
     "output_type": "execute_result"
    }
   ],
   "source": [
    "j==n"
   ]
  },
  {
   "cell_type": "code",
   "execution_count": 25,
   "id": "b9227548-3a63-4979-8a7f-a1cc8d95b197",
   "metadata": {},
   "outputs": [],
   "source": [
    "import torch"
   ]
  },
  {
   "cell_type": "code",
   "execution_count": null,
   "id": "a2cc3f09-c8db-4157-9904-b378008ca6af",
   "metadata": {},
   "outputs": [],
   "source": []
  },
  {
   "cell_type": "code",
   "execution_count": 32,
   "id": "b360062f-acfd-49a3-9a5a-90d3e618c78e",
   "metadata": {},
   "outputs": [
    {
     "data": {
      "text/plain": [
       "{'Input': tensor([1, 2, 3]),\n",
       " 'Label': tensor([4, 5, 6]),\n",
       " 'Index': tensor([7, 8, 9])}"
      ]
     },
     "execution_count": 32,
     "metadata": {},
     "output_type": "execute_result"
    }
   ],
   "source": [
    "tensor_dict = {'Input': torch.tensor([1, 2, 3]),\n",
    "               'Label': torch.tensor([4, 5, 6]),\n",
    "               'Index': torch.tensor([7, 8, 9])}\n",
    "tensor_dict"
   ]
  },
  {
   "cell_type": "code",
   "execution_count": 34,
   "id": "f2f070b1-52ae-4ce5-8609-fef8be689208",
   "metadata": {},
   "outputs": [],
   "source": [
    "rep = 3\n",
    "for key in tensor_dict.keys():\n",
    "    tensor_dict[key] = tensor_dict[key].repeat(rep, 1, 1)"
   ]
  },
  {
   "cell_type": "code",
   "execution_count": 38,
   "id": "bc547639-0b5e-4535-820a-edb152fc15a8",
   "metadata": {},
   "outputs": [
    {
     "data": {
      "text/plain": [
       "{'Input': tensor([[[1, 2, 3]],\n",
       " \n",
       "         [[1, 2, 3]],\n",
       " \n",
       "         [[1, 2, 3]]]),\n",
       " 'Label': tensor([[[4, 5, 6]],\n",
       " \n",
       "         [[4, 5, 6]],\n",
       " \n",
       "         [[4, 5, 6]]]),\n",
       " 'Index': tensor([[[7, 8, 9]],\n",
       " \n",
       "         [[7, 8, 9]],\n",
       " \n",
       "         [[7, 8, 9]]])}"
      ]
     },
     "execution_count": 38,
     "metadata": {},
     "output_type": "execute_result"
    }
   ],
   "source": [
    "tensor_dict"
   ]
  },
  {
   "cell_type": "code",
   "execution_count": 42,
   "id": "28608c6f-2066-412a-9513-4dadc0afb7da",
   "metadata": {},
   "outputs": [
    {
     "data": {
      "text/plain": [
       "tensor([[[1, 2, 3]],\n",
       "\n",
       "        [[1, 2, 3]],\n",
       "\n",
       "        [[1, 2, 3]]])"
      ]
     },
     "execution_count": 42,
     "metadata": {},
     "output_type": "execute_result"
    }
   ],
   "source": [
    "tensor_dict['Input']#[0].shape"
   ]
  },
  {
   "cell_type": "code",
   "execution_count": 117,
   "id": "0b9fd68a-86e8-4a81-a933-0bc70de79d00",
   "metadata": {},
   "outputs": [
    {
     "data": {
      "text/plain": [
       "15"
      ]
     },
     "execution_count": 117,
     "metadata": {},
     "output_type": "execute_result"
    }
   ],
   "source": [
    "add.addto()"
   ]
  },
  {
   "cell_type": "code",
   "execution_count": 120,
   "id": "ce038a07-252a-485f-a2ca-0dba20996673",
   "metadata": {},
   "outputs": [],
   "source": [
    "h = None\n",
    "head_mask = [h] * 4"
   ]
  },
  {
   "cell_type": "code",
   "execution_count": 121,
   "id": "3572c16a-6dea-424b-8304-b542b8f52b2e",
   "metadata": {},
   "outputs": [
    {
     "data": {
      "text/plain": [
       "[None, None, None, None]"
      ]
     },
     "execution_count": 121,
     "metadata": {},
     "output_type": "execute_result"
    }
   ],
   "source": [
    "head_mask"
   ]
  },
  {
   "cell_type": "code",
   "execution_count": 133,
   "id": "4dbd54ad-c4d4-43b4-90e6-ef2778e5427c",
   "metadata": {},
   "outputs": [],
   "source": [
    "t = None or 7"
   ]
  },
  {
   "cell_type": "code",
   "execution_count": 134,
   "id": "d61ac3a3-ed6a-4712-8d88-72c51d4b9d99",
   "metadata": {},
   "outputs": [
    {
     "name": "stdout",
     "output_type": "stream",
     "text": [
      "yes\n"
     ]
    }
   ],
   "source": [
    "if t == 7:\n",
    "    print('yes')"
   ]
  },
  {
   "cell_type": "code",
   "execution_count": 132,
   "id": "1651de4a-04db-4081-9c96-1d9c656d11c8",
   "metadata": {},
   "outputs": [
    {
     "name": "stdout",
     "output_type": "stream",
     "text": [
      "yes\n"
     ]
    }
   ],
   "source": [
    "if t == 4:\n",
    "    print('yes')"
   ]
  },
  {
   "cell_type": "code",
   "execution_count": 135,
   "id": "2471c554-7610-4dac-bfe2-1ff4dd34e4c1",
   "metadata": {},
   "outputs": [],
   "source": [
    "r = None\n",
    "is_ = r is not None"
   ]
  },
  {
   "cell_type": "code",
   "execution_count": 136,
   "id": "90cdd6bc-1365-47a0-a7a9-07d5b1eed234",
   "metadata": {},
   "outputs": [
    {
     "data": {
      "text/plain": [
       "False"
      ]
     },
     "execution_count": 136,
     "metadata": {},
     "output_type": "execute_result"
    }
   ],
   "source": [
    "is_"
   ]
  },
  {
   "cell_type": "code",
   "execution_count": 137,
   "id": "67b819f1-ff9a-4289-bfef-4155d8638f4e",
   "metadata": {},
   "outputs": [
    {
     "name": "stdout",
     "output_type": "stream",
     "text": [
      "t\n"
     ]
    }
   ],
   "source": [
    "if is_ is not None:\n",
    "    print('t')"
   ]
  },
  {
   "cell_type": "code",
   "execution_count": 138,
   "id": "9499f1c9-d58f-4dc4-94ea-81a1cb34afe8",
   "metadata": {},
   "outputs": [],
   "source": [
    "z = None"
   ]
  },
  {
   "cell_type": "code",
   "execution_count": 139,
   "id": "1a595a69-d417-47d1-bddd-205527fe6149",
   "metadata": {},
   "outputs": [
    {
     "ename": "TypeError",
     "evalue": "'NoneType' object is not subscriptable",
     "output_type": "error",
     "traceback": [
      "\u001b[0;31m---------------------------------------------------------------------------\u001b[0m",
      "\u001b[0;31mTypeError\u001b[0m                                 Traceback (most recent call last)",
      "Cell \u001b[0;32mIn[139], line 1\u001b[0m\n\u001b[0;32m----> 1\u001b[0m \u001b[43mz\u001b[49m\u001b[43m[\u001b[49m\u001b[38;5;241;43m3\u001b[39;49m\u001b[43m]\u001b[49m\n",
      "\u001b[0;31mTypeError\u001b[0m: 'NoneType' object is not subscriptable"
     ]
    }
   ],
   "source": [
    "z[3]"
   ]
  },
  {
   "cell_type": "code",
   "execution_count": 140,
   "id": "1f313f44-ede7-43c7-ad59-1741d3f0676f",
   "metadata": {},
   "outputs": [],
   "source": [
    "teturn_dict = True\n",
    "return_dict = None"
   ]
  },
  {
   "cell_type": "code",
   "execution_count": 141,
   "id": "56c65601-a045-4465-811c-7e4848665641",
   "metadata": {},
   "outputs": [],
   "source": [
    "return_dict = return_dict if return_dict is not None else teturn_dict # True"
   ]
  },
  {
   "cell_type": "code",
   "execution_count": 142,
   "id": "e4165691-8a64-43c3-ae8d-10b3f4a87e9e",
   "metadata": {},
   "outputs": [
    {
     "data": {
      "text/plain": [
       "True"
      ]
     },
     "execution_count": 142,
     "metadata": {},
     "output_type": "execute_result"
    }
   ],
   "source": [
    "return_dict"
   ]
  },
  {
   "cell_type": "code",
   "execution_count": 147,
   "id": "c9f320a3-7b25-499c-a7a7-38c9cf934d81",
   "metadata": {},
   "outputs": [],
   "source": [
    "predictions = nn.Linear(5, 6)\n",
    "predictions.decoder = nn.Identity()"
   ]
  },
  {
   "cell_type": "code",
   "execution_count": 149,
   "id": "de149176-d7ed-45ac-870f-2722b0507f5d",
   "metadata": {},
   "outputs": [
    {
     "data": {
      "text/plain": [
       "Linear(\n",
       "  in_features=5, out_features=6, bias=True\n",
       "  (decoder): Identity()\n",
       ")"
      ]
     },
     "execution_count": 149,
     "metadata": {},
     "output_type": "execute_result"
    }
   ],
   "source": [
    "predictions"
   ]
  },
  {
   "cell_type": "code",
   "execution_count": 150,
   "id": "717bc973-2250-4f50-8749-c26de42e65f3",
   "metadata": {},
   "outputs": [
    {
     "data": {
      "text/plain": [
       "Linear(in_features=5, out_features=6, bias=True)"
      ]
     },
     "execution_count": 150,
     "metadata": {},
     "output_type": "execute_result"
    }
   ],
   "source": [
    "predictions = nn.Linear(5, 6)\n",
    "predictions"
   ]
  },
  {
   "cell_type": "code",
   "execution_count": 155,
   "id": "0926ac92-e226-4a97-b9f8-4b99c4ad2ce8",
   "metadata": {},
   "outputs": [
    {
     "data": {
      "text/plain": [
       "tensor([1, 2, 3])"
      ]
     },
     "execution_count": 155,
     "metadata": {},
     "output_type": "execute_result"
    }
   ],
   "source": [
    "extended_attention_mask = torch.tensor([1, 2, 3]).to(dtype=torch.int64)\n",
    "extended_attention_mask"
   ]
  },
  {
   "cell_type": "code",
   "execution_count": null,
   "id": "7c3a9568-01ce-4cbe-9780-e0e2b8576c2f",
   "metadata": {},
   "outputs": [],
   "source": []
  },
  {
   "cell_type": "code",
   "execution_count": 156,
   "id": "1ec88db3-a91b-430a-b2d2-d26d3231f529",
   "metadata": {},
   "outputs": [],
   "source": [
    "extended_attention_mask = extended_attention_mask.to(dtype=torch.float64)"
   ]
  },
  {
   "cell_type": "code",
   "execution_count": 158,
   "id": "c96f37a1-0e18-4b81-92df-4e5ab6e371e7",
   "metadata": {},
   "outputs": [
    {
     "data": {
      "text/plain": [
       "torch.float64"
      ]
     },
     "execution_count": 158,
     "metadata": {},
     "output_type": "execute_result"
    }
   ],
   "source": [
    "extended_attention_mask.dtype"
   ]
  },
  {
   "cell_type": "code",
   "execution_count": null,
   "id": "6c7d02b8-1abb-4404-8ccf-6b214b35e421",
   "metadata": {},
   "outputs": [],
   "source": []
  },
  {
   "cell_type": "code",
   "execution_count": null,
   "id": "c657e3f0-7b8f-4b26-a0ed-67dad14a39e3",
   "metadata": {},
   "outputs": [],
   "source": []
  }
 ],
 "metadata": {
  "kernelspec": {
   "display_name": "Python 3 (ipykernel)",
   "language": "python",
   "name": "python3"
  },
  "language_info": {
   "codemirror_mode": {
    "name": "ipython",
    "version": 3
   },
   "file_extension": ".py",
   "mimetype": "text/x-python",
   "name": "python",
   "nbconvert_exporter": "python",
   "pygments_lexer": "ipython3",
   "version": "3.10.10"
  }
 },
 "nbformat": 4,
 "nbformat_minor": 5
}
